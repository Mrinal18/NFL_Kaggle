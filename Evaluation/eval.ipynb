{
 "cells": [
  {
   "cell_type": "code",
   "execution_count": 1,
   "id": "140d5999",
   "metadata": {
    "_cell_guid": "b1076dfc-b9ad-4769-8c92-a6c4dae69d19",
    "_uuid": "8f2839f25d086af736a60e9eeb907d3b93b6e0e5",
    "execution": {
     "iopub.execute_input": "2021-12-04T15:12:13.521525Z",
     "iopub.status.busy": "2021-12-04T15:12:13.520659Z",
     "iopub.status.idle": "2021-12-04T15:12:13.524244Z",
     "shell.execute_reply": "2021-12-04T15:12:13.524666Z",
     "shell.execute_reply.started": "2021-12-04T15:11:31.773275Z"
    },
    "papermill": {
     "duration": 0.030972,
     "end_time": "2021-12-04T15:12:13.524921",
     "exception": false,
     "start_time": "2021-12-04T15:12:13.493949",
     "status": "completed"
    },
    "tags": []
   },
   "outputs": [],
   "source": [
    "# This Python 3 environment comes with many helpful analytics libraries installed\n",
    "# It is defined by the kaggle/python Docker image: https://github.com/kaggle/docker-python\n",
    "# For example, here's several helpful packages to load\n",
    "\n",
    "import numpy as np # linear algebra\n",
    "import pandas as pd # data processing, CSV file I/O (e.g. pd.read_csv)\n",
    "\n",
    "# Input data files are available in the read-only \"../input/\" directory\n",
    "# For example, running this (by clicking run or pressing Shift+Enter) will list all files under the input directory\n",
    "\n",
    "import os\n",
    "#for dirname, _, filenames in os.walk('/kaggle/input'):\n",
    " #   for filename in filenames:\n",
    "  #      print(os.path.join(dirname, filename))\n",
    "\n",
    "# You can write up to 20GB to the current directory (/kaggle/working/) that gets preserved as output when you create a version using \"Save & Run All\" \n",
    "# You can also write temporary files to /kaggle/temp/, but they won't be saved outside of the current session"
   ]
  },
  {
   "cell_type": "code",
   "execution_count": 2,
   "id": "16a440c2",
   "metadata": {
    "execution": {
     "iopub.execute_input": "2021-12-04T15:12:13.561570Z",
     "iopub.status.busy": "2021-12-04T15:12:13.560957Z",
     "iopub.status.idle": "2021-12-04T15:12:13.563946Z",
     "shell.execute_reply": "2021-12-04T15:12:13.564342Z",
     "shell.execute_reply.started": "2021-12-04T15:11:31.786721Z"
    },
    "papermill": {
     "duration": 0.02298,
     "end_time": "2021-12-04T15:12:13.564466",
     "exception": false,
     "start_time": "2021-12-04T15:12:13.541486",
     "status": "completed"
    },
    "tags": []
   },
   "outputs": [
    {
     "data": {
      "text/plain": [
       "'/kaggle/working'"
      ]
     },
     "execution_count": 2,
     "metadata": {},
     "output_type": "execute_result"
    }
   ],
   "source": [
    "pwd\n"
   ]
  },
  {
   "cell_type": "code",
   "execution_count": 3,
   "id": "1bd37113",
   "metadata": {
    "execution": {
     "iopub.execute_input": "2021-12-04T15:12:13.598838Z",
     "iopub.status.busy": "2021-12-04T15:12:13.597926Z",
     "iopub.status.idle": "2021-12-04T15:12:14.262931Z",
     "shell.execute_reply": "2021-12-04T15:12:14.262276Z",
     "shell.execute_reply.started": "2021-12-04T15:11:31.806123Z"
    },
    "papermill": {
     "duration": 0.684049,
     "end_time": "2021-12-04T15:12:14.263093",
     "exception": false,
     "start_time": "2021-12-04T15:12:13.579044",
     "status": "completed"
    },
    "tags": []
   },
   "outputs": [
    {
     "name": "stdout",
     "output_type": "stream",
     "text": [
      "/kaggle\n",
      "/kaggle/tmp\n"
     ]
    }
   ],
   "source": [
    "%cd ../\n",
    "!mkdir tmp\n",
    "%cd tmp"
   ]
  },
  {
   "cell_type": "code",
   "execution_count": 4,
   "id": "b64c3d6f",
   "metadata": {
    "execution": {
     "iopub.execute_input": "2021-12-04T15:12:14.307123Z",
     "iopub.status.busy": "2021-12-04T15:12:14.302939Z",
     "iopub.status.idle": "2021-12-04T15:12:26.725062Z",
     "shell.execute_reply": "2021-12-04T15:12:26.725678Z",
     "shell.execute_reply.started": "2021-12-04T15:11:32.478090Z"
    },
    "papermill": {
     "duration": 12.446235,
     "end_time": "2021-12-04T15:12:26.725879",
     "exception": false,
     "start_time": "2021-12-04T15:12:14.279644",
     "status": "completed"
    },
    "tags": []
   },
   "outputs": [
    {
     "name": "stdout",
     "output_type": "stream",
     "text": [
      "Cloning into 'yolov5'...\r\n",
      "remote: Enumerating objects: 10147, done.\u001b[K\r\n",
      "remote: Counting objects: 100% (15/15), done.\u001b[K\r\n",
      "remote: Compressing objects: 100% (15/15), done.\u001b[K\r\n",
      "remote: Total 10147 (delta 4), reused 7 (delta 0), pack-reused 10132\u001b[K\r\n",
      "Receiving objects: 100% (10147/10147), 10.42 MiB | 30.22 MiB/s, done.\r\n",
      "Resolving deltas: 100% (7035/7035), done.\r\n",
      "/kaggle/tmp/yolov5\n",
      "\u001b[33mWARNING: Running pip as the 'root' user can result in broken permissions and conflicting behaviour with the system package manager. It is recommended to use a virtual environment instead: https://pip.pypa.io/warnings/venv\u001b[0m\r\n",
      "Note: you may need to restart the kernel to use updated packages.\n",
      "/kaggle/tmp\n",
      "Setup complete. Using torch 1.9.1 (Tesla P100-PCIE-16GB)\n"
     ]
    }
   ],
   "source": [
    "# Download YOLOv5\n",
    "!git clone https://github.com/ultralytics/yolov5  # clone repo\n",
    "%cd yolov5\n",
    "# Install dependencies\n",
    "%pip install -qr requirements.txt  # install dependencies\n",
    "\n",
    "%cd ../\n",
    "import torch\n",
    "print(f\"Setup complete. Using torch {torch.__version__} ({torch.cuda.get_device_properties(0).name if torch.cuda.is_available() else 'CPU'})\")"
   ]
  },
  {
   "cell_type": "code",
   "execution_count": 5,
   "id": "98bc7158",
   "metadata": {
    "execution": {
     "iopub.execute_input": "2021-12-04T15:12:26.771782Z",
     "iopub.status.busy": "2021-12-04T15:12:26.771244Z",
     "iopub.status.idle": "2021-12-04T15:12:34.319273Z",
     "shell.execute_reply": "2021-12-04T15:12:34.319830Z",
     "shell.execute_reply.started": "2021-12-04T15:11:46.432430Z"
    },
    "papermill": {
     "duration": 7.572436,
     "end_time": "2021-12-04T15:12:34.320027",
     "exception": false,
     "start_time": "2021-12-04T15:12:26.747591",
     "status": "completed"
    },
    "tags": []
   },
   "outputs": [
    {
     "name": "stdout",
     "output_type": "stream",
     "text": [
      "Requirement already satisfied: wandb in /opt/conda/lib/python3.7/site-packages (0.12.7)\r\n",
      "Requirement already satisfied: GitPython>=1.0.0 in /opt/conda/lib/python3.7/site-packages (from wandb) (3.1.24)\r\n",
      "Requirement already satisfied: requests<3,>=2.0.0 in /opt/conda/lib/python3.7/site-packages (from wandb) (2.25.1)\r\n",
      "Requirement already satisfied: PyYAML in /opt/conda/lib/python3.7/site-packages (from wandb) (6.0)\r\n",
      "Requirement already satisfied: configparser>=3.8.1 in /opt/conda/lib/python3.7/site-packages (from wandb) (5.1.0)\r\n",
      "Requirement already satisfied: sentry-sdk>=1.0.0 in /opt/conda/lib/python3.7/site-packages (from wandb) (1.5.0)\r\n",
      "Requirement already satisfied: psutil>=5.0.0 in /opt/conda/lib/python3.7/site-packages (from wandb) (5.8.0)\r\n",
      "Requirement already satisfied: yaspin>=1.0.0 in /opt/conda/lib/python3.7/site-packages (from wandb) (2.1.0)\r\n",
      "Requirement already satisfied: python-dateutil>=2.6.1 in /opt/conda/lib/python3.7/site-packages (from wandb) (2.8.0)\r\n",
      "Requirement already satisfied: six>=1.13.0 in /opt/conda/lib/python3.7/site-packages (from wandb) (1.16.0)\r\n",
      "Requirement already satisfied: Click!=8.0.0,>=7.0 in /opt/conda/lib/python3.7/site-packages (from wandb) (8.0.3)\r\n",
      "Requirement already satisfied: promise<3,>=2.0 in /opt/conda/lib/python3.7/site-packages (from wandb) (2.3)\r\n",
      "Requirement already satisfied: subprocess32>=3.5.3 in /opt/conda/lib/python3.7/site-packages (from wandb) (3.5.4)\r\n",
      "Requirement already satisfied: docker-pycreds>=0.4.0 in /opt/conda/lib/python3.7/site-packages (from wandb) (0.4.0)\r\n",
      "Requirement already satisfied: pathtools in /opt/conda/lib/python3.7/site-packages (from wandb) (0.1.2)\r\n",
      "Requirement already satisfied: shortuuid>=0.5.0 in /opt/conda/lib/python3.7/site-packages (from wandb) (1.0.8)\r\n",
      "Requirement already satisfied: protobuf>=3.12.0 in /opt/conda/lib/python3.7/site-packages (from wandb) (3.19.1)\r\n",
      "Requirement already satisfied: importlib-metadata in /opt/conda/lib/python3.7/site-packages (from Click!=8.0.0,>=7.0->wandb) (4.8.2)\r\n",
      "Requirement already satisfied: gitdb<5,>=4.0.1 in /opt/conda/lib/python3.7/site-packages (from GitPython>=1.0.0->wandb) (4.0.9)\r\n",
      "Requirement already satisfied: typing-extensions>=3.7.4.3 in /opt/conda/lib/python3.7/site-packages (from GitPython>=1.0.0->wandb) (3.10.0.2)\r\n",
      "Requirement already satisfied: urllib3<1.27,>=1.21.1 in /opt/conda/lib/python3.7/site-packages (from requests<3,>=2.0.0->wandb) (1.26.7)\r\n",
      "Requirement already satisfied: chardet<5,>=3.0.2 in /opt/conda/lib/python3.7/site-packages (from requests<3,>=2.0.0->wandb) (4.0.0)\r\n",
      "Requirement already satisfied: idna<3,>=2.5 in /opt/conda/lib/python3.7/site-packages (from requests<3,>=2.0.0->wandb) (2.10)\r\n",
      "Requirement already satisfied: certifi>=2017.4.17 in /opt/conda/lib/python3.7/site-packages (from requests<3,>=2.0.0->wandb) (2021.10.8)\r\n",
      "Requirement already satisfied: termcolor<2.0.0,>=1.1.0 in /opt/conda/lib/python3.7/site-packages (from yaspin>=1.0.0->wandb) (1.1.0)\r\n",
      "Requirement already satisfied: smmap<6,>=3.0.1 in /opt/conda/lib/python3.7/site-packages (from gitdb<5,>=4.0.1->GitPython>=1.0.0->wandb) (3.0.5)\r\n",
      "Requirement already satisfied: zipp>=0.5 in /opt/conda/lib/python3.7/site-packages (from importlib-metadata->Click!=8.0.0,>=7.0->wandb) (3.6.0)\r\n",
      "\u001b[33mWARNING: Running pip as the 'root' user can result in broken permissions and conflicting behaviour with the system package manager. It is recommended to use a virtual environment instead: https://pip.pypa.io/warnings/venv\u001b[0m\r\n",
      "Note: you may need to restart the kernel to use updated packages.\n"
     ]
    }
   ],
   "source": [
    "pip install wandb"
   ]
  },
  {
   "cell_type": "code",
   "execution_count": 6,
   "id": "2b89a196",
   "metadata": {
    "execution": {
     "iopub.execute_input": "2021-12-04T15:12:34.370202Z",
     "iopub.status.busy": "2021-12-04T15:12:34.369517Z",
     "iopub.status.idle": "2021-12-04T15:12:34.999730Z",
     "shell.execute_reply": "2021-12-04T15:12:34.999249Z",
     "shell.execute_reply.started": "2021-12-04T15:11:53.579653Z"
    },
    "papermill": {
     "duration": 0.656503,
     "end_time": "2021-12-04T15:12:34.999892",
     "exception": false,
     "start_time": "2021-12-04T15:12:34.343389",
     "status": "completed"
    },
    "tags": []
   },
   "outputs": [],
   "source": [
    "import wandb"
   ]
  },
  {
   "cell_type": "code",
   "execution_count": 7,
   "id": "4d683781",
   "metadata": {
    "execution": {
     "iopub.execute_input": "2021-12-04T15:12:35.056560Z",
     "iopub.status.busy": "2021-12-04T15:12:35.049474Z",
     "iopub.status.idle": "2021-12-04T15:12:36.380264Z",
     "shell.execute_reply": "2021-12-04T15:12:36.379748Z",
     "shell.execute_reply.started": "2021-12-04T15:11:54.150184Z"
    },
    "papermill": {
     "duration": 1.35816,
     "end_time": "2021-12-04T15:12:36.380392",
     "exception": false,
     "start_time": "2021-12-04T15:12:35.022232",
     "status": "completed"
    },
    "tags": []
   },
   "outputs": [
    {
     "name": "stderr",
     "output_type": "stream",
     "text": [
      "\u001b[34m\u001b[1mwandb\u001b[0m: W&B API key is configured (use `wandb login --relogin` to force relogin)\n",
      "\u001b[34m\u001b[1mwandb\u001b[0m: \u001b[33mWARNING\u001b[0m If you're specifying your api key in code, ensure this code is not shared publically.\n",
      "\u001b[34m\u001b[1mwandb\u001b[0m: \u001b[33mWARNING\u001b[0m Consider setting the WANDB_API_KEY environment variable, or running `wandb login` from the command line.\n",
      "\u001b[34m\u001b[1mwandb\u001b[0m: Appending key for api.wandb.ai to your netrc file: /root/.netrc\n"
     ]
    },
    {
     "data": {
      "text/plain": [
       "True"
      ]
     },
     "execution_count": 7,
     "metadata": {},
     "output_type": "execute_result"
    }
   ],
   "source": [
    "from kaggle_secrets import UserSecretsClient\n",
    "\n",
    "user_secrets = UserSecretsClient()\n",
    "\n",
    "# I have saved my API token with \"wandb_api\" as Label. \n",
    "# If you use some other Label make sure to change the same below. \n",
    "wandb_api = user_secrets.get_secret(\"nfl_wb\") \n",
    "\n",
    "wandb.login(key=wandb_api)"
   ]
  },
  {
   "cell_type": "code",
   "execution_count": 8,
   "id": "4d4af6ef",
   "metadata": {
    "execution": {
     "iopub.execute_input": "2021-12-04T15:12:36.432353Z",
     "iopub.status.busy": "2021-12-04T15:12:36.431640Z",
     "iopub.status.idle": "2021-12-04T15:12:43.968199Z",
     "shell.execute_reply": "2021-12-04T15:12:43.968746Z"
    },
    "papermill": {
     "duration": 7.56475,
     "end_time": "2021-12-04T15:12:43.968963",
     "exception": false,
     "start_time": "2021-12-04T15:12:36.404213",
     "status": "completed"
    },
    "tags": []
   },
   "outputs": [
    {
     "name": "stdout",
     "output_type": "stream",
     "text": [
      "\u001b[33mWARNING: Running pip as the 'root' user can result in broken permissions and conflicting behaviour with the system package manager. It is recommended to use a virtual environment instead: https://pip.pypa.io/warnings/venv\u001b[0m\r\n",
      "0.12.7\n"
     ]
    }
   ],
   "source": [
    "# Install W&B \n",
    "!pip install -q --upgrade wandb\n",
    "\n",
    "\n",
    "# Login \n",
    "#import wandb\n",
    "print(wandb.__version__)\n",
    "#wandb.login()"
   ]
  },
  {
   "cell_type": "code",
   "execution_count": 9,
   "id": "b563e361",
   "metadata": {
    "execution": {
     "iopub.execute_input": "2021-12-04T15:12:44.029575Z",
     "iopub.status.busy": "2021-12-04T15:12:44.028729Z",
     "iopub.status.idle": "2021-12-04T15:12:50.480073Z",
     "shell.execute_reply": "2021-12-04T15:12:50.480493Z"
    },
    "papermill": {
     "duration": 6.486676,
     "end_time": "2021-12-04T15:12:50.480685",
     "exception": false,
     "start_time": "2021-12-04T15:12:43.994009",
     "status": "completed"
    },
    "tags": []
   },
   "outputs": [
    {
     "name": "stderr",
     "output_type": "stream",
     "text": [
      "\u001b[34m\u001b[1mwandb\u001b[0m: Currently logged in as: \u001b[33marchanabc\u001b[0m (use `wandb login --relogin` to force relogin)\n"
     ]
    },
    {
     "data": {
      "text/html": [
       "\n",
       "                    Syncing run <strong><a href=\"https://wandb.ai/aml8850/test-project/runs/1roarpa5\" target=\"_blank\">legendary-deluge-10</a></strong> to <a href=\"https://wandb.ai/aml8850/test-project\" target=\"_blank\">Weights & Biases</a> (<a href=\"https://docs.wandb.com/integrations/jupyter.html\" target=\"_blank\">docs</a>).<br/>\n",
       "\n",
       "                "
      ],
      "text/plain": [
       "<IPython.core.display.HTML object>"
      ]
     },
     "metadata": {},
     "output_type": "display_data"
    },
    {
     "data": {
      "text/html": [
       "<button onClick=\"this.nextSibling.style.display='block';this.style.display='none';\">Display W&B run</button><iframe src=\"https://wandb.ai/aml8850/test-project/runs/1roarpa5?jupyter=true\" style=\"border:none;width:100%;height:420px;display:none;\"></iframe>"
      ],
      "text/plain": [
       "<wandb.sdk.wandb_run.Run at 0x7f030f3aa8d0>"
      ]
     },
     "execution_count": 9,
     "metadata": {},
     "output_type": "execute_result"
    }
   ],
   "source": [
    "import wandb\n",
    "\n",
    "wandb.init(project=\"test-project\", entity=\"aml8850\")"
   ]
  },
  {
   "cell_type": "code",
   "execution_count": 10,
   "id": "0747c4f2",
   "metadata": {
    "execution": {
     "iopub.execute_input": "2021-12-04T15:12:50.537583Z",
     "iopub.status.busy": "2021-12-04T15:12:50.537013Z",
     "iopub.status.idle": "2021-12-04T15:12:51.487536Z",
     "shell.execute_reply": "2021-12-04T15:12:51.487031Z"
    },
    "papermill": {
     "duration": 0.980039,
     "end_time": "2021-12-04T15:12:51.487662",
     "exception": false,
     "start_time": "2021-12-04T15:12:50.507623",
     "status": "completed"
    },
    "tags": []
   },
   "outputs": [],
   "source": [
    "import os\n",
    "import gc\n",
    "import cv2\n",
    "import numpy as np\n",
    "import pandas as pd\n",
    "from tqdm import tqdm\n",
    "from shutil import copyfile\n",
    "import matplotlib.pyplot as plt\n",
    "from sklearn.model_selection import train_test_split"
   ]
  },
  {
   "cell_type": "code",
   "execution_count": 11,
   "id": "e67db18d",
   "metadata": {
    "execution": {
     "iopub.execute_input": "2021-12-04T15:12:51.544523Z",
     "iopub.status.busy": "2021-12-04T15:12:51.543655Z",
     "iopub.status.idle": "2021-12-04T15:12:51.546455Z",
     "shell.execute_reply": "2021-12-04T15:12:51.546912Z"
    },
    "papermill": {
     "duration": 0.03279,
     "end_time": "2021-12-04T15:12:51.547033",
     "exception": false,
     "start_time": "2021-12-04T15:12:51.514243",
     "status": "completed"
    },
    "tags": []
   },
   "outputs": [
    {
     "data": {
      "text/plain": [
       "'/kaggle/tmp'"
      ]
     },
     "execution_count": 11,
     "metadata": {},
     "output_type": "execute_result"
    }
   ],
   "source": [
    "pwd"
   ]
  },
  {
   "cell_type": "code",
   "execution_count": 12,
   "id": "8df1a50d",
   "metadata": {
    "execution": {
     "iopub.execute_input": "2021-12-04T15:12:51.606461Z",
     "iopub.status.busy": "2021-12-04T15:12:51.605594Z",
     "iopub.status.idle": "2021-12-04T15:12:51.808136Z",
     "shell.execute_reply": "2021-12-04T15:12:51.807508Z"
    },
    "papermill": {
     "duration": 0.235402,
     "end_time": "2021-12-04T15:12:51.808283",
     "exception": false,
     "start_time": "2021-12-04T15:12:51.572881",
     "status": "completed"
    },
    "tags": []
   },
   "outputs": [
    {
     "name": "stdout",
     "output_type": "stream",
     "text": [
      "/kaggle\n",
      "Number of extra images: 9947\n"
     ]
    }
   ],
   "source": [
    "%cd ../\n",
    "TRAIN_PATH = 'input/nfl-health-and-safety-helmet-assignment/images/'\n",
    "IMG_SIZE = 256\n",
    "BATCH_SIZE = 16\n",
    "EPOCHS = 10\n",
    "\n",
    "print(f'Number of extra images: {len(os.listdir(TRAIN_PATH))}') "
   ]
  },
  {
   "cell_type": "code",
   "execution_count": 13,
   "id": "a421d168",
   "metadata": {
    "execution": {
     "iopub.execute_input": "2021-12-04T15:12:51.868895Z",
     "iopub.status.busy": "2021-12-04T15:12:51.868267Z",
     "iopub.status.idle": "2021-12-04T15:12:53.600703Z",
     "shell.execute_reply": "2021-12-04T15:12:53.606033Z"
    },
    "papermill": {
     "duration": 1.770721,
     "end_time": "2021-12-04T15:12:53.606265",
     "exception": false,
     "start_time": "2021-12-04T15:12:51.835544",
     "status": "completed"
    },
    "tags": []
   },
   "outputs": [
    {
     "name": "stdout",
     "output_type": "stream",
     "text": [
      "Number of ground truth bounding boxes:  193736\n",
      "Unique labels:  {'Helmet': 0, 'Helmet-Blurred': 1, 'Helmet-Difficult': 2, 'Helmet-Sideline': 3, 'Helmet-Partial': 4}\n"
     ]
    },
    {
     "data": {
      "text/html": [
       "<div>\n",
       "<style scoped>\n",
       "    .dataframe tbody tr th:only-of-type {\n",
       "        vertical-align: middle;\n",
       "    }\n",
       "\n",
       "    .dataframe tbody tr th {\n",
       "        vertical-align: top;\n",
       "    }\n",
       "\n",
       "    .dataframe thead th {\n",
       "        text-align: right;\n",
       "    }\n",
       "</style>\n",
       "<table border=\"1\" class=\"dataframe\">\n",
       "  <thead>\n",
       "    <tr style=\"text-align: right;\">\n",
       "      <th></th>\n",
       "      <th>image</th>\n",
       "      <th>label</th>\n",
       "      <th>left</th>\n",
       "      <th>width</th>\n",
       "      <th>top</th>\n",
       "      <th>height</th>\n",
       "    </tr>\n",
       "  </thead>\n",
       "  <tbody>\n",
       "    <tr>\n",
       "      <th>0</th>\n",
       "      <td>57503_000116_Endzone_frame443.jpg</td>\n",
       "      <td>Helmet</td>\n",
       "      <td>1099</td>\n",
       "      <td>16</td>\n",
       "      <td>456</td>\n",
       "      <td>15</td>\n",
       "    </tr>\n",
       "    <tr>\n",
       "      <th>1</th>\n",
       "      <td>57503_000116_Endzone_frame443.jpg</td>\n",
       "      <td>Helmet</td>\n",
       "      <td>1117</td>\n",
       "      <td>15</td>\n",
       "      <td>478</td>\n",
       "      <td>16</td>\n",
       "    </tr>\n",
       "    <tr>\n",
       "      <th>2</th>\n",
       "      <td>57503_000116_Endzone_frame443.jpg</td>\n",
       "      <td>Helmet</td>\n",
       "      <td>828</td>\n",
       "      <td>16</td>\n",
       "      <td>511</td>\n",
       "      <td>15</td>\n",
       "    </tr>\n",
       "    <tr>\n",
       "      <th>3</th>\n",
       "      <td>57503_000116_Endzone_frame443.jpg</td>\n",
       "      <td>Helmet</td>\n",
       "      <td>746</td>\n",
       "      <td>16</td>\n",
       "      <td>519</td>\n",
       "      <td>16</td>\n",
       "    </tr>\n",
       "    <tr>\n",
       "      <th>4</th>\n",
       "      <td>57503_000116_Endzone_frame443.jpg</td>\n",
       "      <td>Helmet</td>\n",
       "      <td>678</td>\n",
       "      <td>17</td>\n",
       "      <td>554</td>\n",
       "      <td>17</td>\n",
       "    </tr>\n",
       "  </tbody>\n",
       "</table>\n",
       "</div>"
      ],
      "text/plain": [
       "                               image   label  left  width  top  height\n",
       "0  57503_000116_Endzone_frame443.jpg  Helmet  1099     16  456      15\n",
       "1  57503_000116_Endzone_frame443.jpg  Helmet  1117     15  478      16\n",
       "2  57503_000116_Endzone_frame443.jpg  Helmet   828     16  511      15\n",
       "3  57503_000116_Endzone_frame443.jpg  Helmet   746     16  519      16\n",
       "4  57503_000116_Endzone_frame443.jpg  Helmet   678     17  554      17"
      ]
     },
     "execution_count": 13,
     "metadata": {},
     "output_type": "execute_result"
    }
   ],
   "source": [
    "# Load image level csv file\n",
    "extra_df = pd.read_csv('input/nfl-health-and-safety-helmet-assignment/image_labels.csv')\n",
    "print('Number of ground truth bounding boxes: ', len(extra_df))\n",
    "\n",
    "# Number of unique labels\n",
    "label_to_id = {label: i for i, label in enumerate(extra_df.label.unique())}\n",
    "print('Unique labels: ', label_to_id)\n",
    "\n",
    "# Group together bbox coordinates belonging to the same image. \n",
    "image_bbox_label = {} # key is the name of the image, value is a dataframe with label and bbox coordinates. \n",
    "for image, df in extra_df.groupby('image'): \n",
    "    image_bbox_label[image] = df.reset_index(drop=True)\n",
    "\n",
    "# Visualize\n",
    "extra_df.head(5)"
   ]
  },
  {
   "cell_type": "code",
   "execution_count": 14,
   "id": "2932dda5",
   "metadata": {
    "execution": {
     "iopub.execute_input": "2021-12-04T15:12:53.703936Z",
     "iopub.status.busy": "2021-12-04T15:12:53.702494Z",
     "iopub.status.idle": "2021-12-04T15:12:53.717896Z",
     "shell.execute_reply": "2021-12-04T15:12:53.718622Z"
    },
    "papermill": {
     "duration": 0.065904,
     "end_time": "2021-12-04T15:12:53.718866",
     "exception": false,
     "start_time": "2021-12-04T15:12:53.652962",
     "status": "completed"
    },
    "tags": []
   },
   "outputs": [
    {
     "name": "stdout",
     "output_type": "stream",
     "text": [
      "Size of dataset: 9947,       training images: 7957,       validation images: 1990\n"
     ]
    }
   ],
   "source": [
    "# Create train and validation split.\n",
    "train_names, valid_names = train_test_split(list(image_bbox_label), test_size=0.2, random_state=42)\n",
    "print(f'Size of dataset: {len(image_bbox_label)},\\\n",
    "       training images: {len(train_names)},\\\n",
    "       validation images: {len(valid_names)}')"
   ]
  },
  {
   "cell_type": "code",
   "execution_count": 15,
   "id": "1d62cea7",
   "metadata": {
    "execution": {
     "iopub.execute_input": "2021-12-04T15:12:53.816845Z",
     "iopub.status.busy": "2021-12-04T15:12:53.816027Z",
     "iopub.status.idle": "2021-12-04T15:12:53.820302Z",
     "shell.execute_reply": "2021-12-04T15:12:53.820719Z"
    },
    "papermill": {
     "duration": 0.057328,
     "end_time": "2021-12-04T15:12:53.820887",
     "exception": false,
     "start_time": "2021-12-04T15:12:53.763559",
     "status": "completed"
    },
    "tags": []
   },
   "outputs": [
    {
     "data": {
      "text/plain": [
       "'/kaggle'"
      ]
     },
     "execution_count": 15,
     "metadata": {},
     "output_type": "execute_result"
    }
   ],
   "source": [
    "pwd"
   ]
  },
  {
   "cell_type": "code",
   "execution_count": 16,
   "id": "fa3a30c8",
   "metadata": {
    "execution": {
     "iopub.execute_input": "2021-12-04T15:12:53.895330Z",
     "iopub.status.busy": "2021-12-04T15:12:53.894565Z",
     "iopub.status.idle": "2021-12-04T15:14:08.534782Z",
     "shell.execute_reply": "2021-12-04T15:14:08.534288Z"
    },
    "papermill": {
     "duration": 74.673332,
     "end_time": "2021-12-04T15:14:08.534947",
     "exception": false,
     "start_time": "2021-12-04T15:12:53.861615",
     "status": "completed"
    },
    "tags": []
   },
   "outputs": [
    {
     "name": "stderr",
     "output_type": "stream",
     "text": [
      "100%|██████████| 7957/7957 [01:00<00:00, 132.56it/s]\n",
      "100%|██████████| 1990/1990 [00:14<00:00, 136.34it/s]\n"
     ]
    }
   ],
   "source": [
    "os.makedirs('tmp/nfl_extra/images/train', exist_ok=True)\n",
    "os.makedirs('tmp/nfl_extra/images/valid', exist_ok=True)\n",
    "\n",
    "os.makedirs('tmp/nfl_extra/labels/train', exist_ok=True)\n",
    "os.makedirs('tmp/nfl_extra/labels/valid', exist_ok=True)\n",
    "\n",
    "# Move the images to relevant split folder.\n",
    "for img_name in tqdm(train_names):\n",
    "    copyfile(f'{TRAIN_PATH}/{img_name}', f'tmp/nfl_extra/images/train/{img_name}')\n",
    "\n",
    "for img_name in tqdm(valid_names):\n",
    "    copyfile(f'{TRAIN_PATH}/{img_name}', f'tmp/nfl_extra/images/valid/{img_name}')"
   ]
  },
  {
   "cell_type": "code",
   "execution_count": 17,
   "id": "b720a0e4",
   "metadata": {
    "execution": {
     "iopub.execute_input": "2021-12-04T15:14:08.954527Z",
     "iopub.status.busy": "2021-12-04T15:14:08.953712Z",
     "iopub.status.idle": "2021-12-04T15:14:08.959227Z",
     "shell.execute_reply": "2021-12-04T15:14:08.960469Z"
    },
    "papermill": {
     "duration": 0.218015,
     "end_time": "2021-12-04T15:14:08.960682",
     "exception": false,
     "start_time": "2021-12-04T15:14:08.742667",
     "status": "completed"
    },
    "tags": []
   },
   "outputs": [
    {
     "data": {
      "text/plain": [
       "'/kaggle'"
      ]
     },
     "execution_count": 17,
     "metadata": {},
     "output_type": "execute_result"
    }
   ],
   "source": [
    "pwd"
   ]
  },
  {
   "cell_type": "code",
   "execution_count": 18,
   "id": "4a596870",
   "metadata": {
    "execution": {
     "iopub.execute_input": "2021-12-04T15:14:09.395708Z",
     "iopub.status.busy": "2021-12-04T15:14:09.394981Z",
     "iopub.status.idle": "2021-12-04T15:14:10.060764Z",
     "shell.execute_reply": "2021-12-04T15:14:10.060272Z"
    },
    "papermill": {
     "duration": 0.892079,
     "end_time": "2021-12-04T15:14:10.060908",
     "exception": false,
     "start_time": "2021-12-04T15:14:09.168829",
     "status": "completed"
    },
    "tags": []
   },
   "outputs": [
    {
     "name": "stdout",
     "output_type": "stream",
     "text": [
      "{names: [Helmet, Helmet-Blurred, Helmet-Difficult, Helmet-Sideline, Helmet-Partial],\r\n",
      "  nc: 5, train: ../nfl_extra/images/train, val: ../nfl_extra/images/valid}\r\n"
     ]
    }
   ],
   "source": [
    "# Create .yaml file \n",
    "import yaml\n",
    "\n",
    "data_yaml = dict(\n",
    "    train = '../nfl_extra/images/train',\n",
    "    val = '../nfl_extra/images/valid',\n",
    "    nc = 5,\n",
    "    names = list(extra_df.label.unique())\n",
    ")\n",
    "\n",
    "# Note that I am creating the file in the yolov5/data/ directory.\n",
    "with open('tmp/yolov5/data/data.yaml', 'w') as outfile:\n",
    "    yaml.dump(data_yaml, outfile, default_flow_style=True)\n",
    "    \n",
    "%cat tmp/yolov5/data/data.yaml"
   ]
  },
  {
   "cell_type": "code",
   "execution_count": 19,
   "id": "a4a022a2",
   "metadata": {
    "execution": {
     "iopub.execute_input": "2021-12-04T15:14:10.477493Z",
     "iopub.status.busy": "2021-12-04T15:14:10.476575Z",
     "iopub.status.idle": "2021-12-04T15:14:10.483551Z",
     "shell.execute_reply": "2021-12-04T15:14:10.484169Z"
    },
    "papermill": {
     "duration": 0.21621,
     "end_time": "2021-12-04T15:14:10.484353",
     "exception": false,
     "start_time": "2021-12-04T15:14:10.268143",
     "status": "completed"
    },
    "tags": []
   },
   "outputs": [
    {
     "data": {
      "text/plain": [
       "'/kaggle'"
      ]
     },
     "execution_count": 19,
     "metadata": {},
     "output_type": "execute_result"
    }
   ],
   "source": [
    "pwd"
   ]
  },
  {
   "cell_type": "code",
   "execution_count": 20,
   "id": "e143c05e",
   "metadata": {
    "execution": {
     "iopub.execute_input": "2021-12-04T15:14:10.913862Z",
     "iopub.status.busy": "2021-12-04T15:14:10.912844Z",
     "iopub.status.idle": "2021-12-04T15:17:28.585796Z",
     "shell.execute_reply": "2021-12-04T15:17:28.585136Z"
    },
    "papermill": {
     "duration": 197.892352,
     "end_time": "2021-12-04T15:17:28.585970",
     "exception": false,
     "start_time": "2021-12-04T15:14:10.693618",
     "status": "completed"
    },
    "tags": []
   },
   "outputs": [
    {
     "name": "stderr",
     "output_type": "stream",
     "text": [
      "100%|██████████| 9947/9947 [03:17<00:00, 50.32it/s]\n"
     ]
    }
   ],
   "source": [
    "def get_yolo_format_bbox(img_w, img_h, box):\n",
    "    \"\"\"\n",
    "    Convert the bounding boxes in YOLO format.\n",
    "    \n",
    "    Input:\n",
    "    img_w - Original/Scaled image width\n",
    "    img_h - Original/Scaled image height\n",
    "    box - Bounding box coordinates in the format, \"left, width, top, height\"\n",
    "    \n",
    "    Output:\n",
    "    Return YOLO formatted bounding box coordinates, \"x_center y_center width height\".\n",
    "    \"\"\"\n",
    "    w = box.width # width \n",
    "    h = box.height # height\n",
    "    xc = box.left + int(np.round(w/2)) # xmin + width/2\n",
    "    yc = box.top + int(np.round(h/2)) # ymin + height/2\n",
    "\n",
    "    return [xc/img_w, yc/img_h, w/img_w, h/img_h] # x_center y_center width height\n",
    "    \n",
    "# Iterate over each image and write the labels and bbox coordinates to a .txt file. \n",
    "for img_name, df in tqdm(image_bbox_label.items()):\n",
    "    # open image file to get the height and width \n",
    "    img = cv2.imread(TRAIN_PATH+'/'+img_name)\n",
    "    height, width, _ = img.shape \n",
    "    \n",
    "    # iterate over bounding box df\n",
    "    bboxes = []\n",
    "    for i in range(len(df)):\n",
    "        # get a row\n",
    "        box = df.loc[i]\n",
    "        # get bbox in YOLO format\n",
    "        box = get_yolo_format_bbox(width, height, box)\n",
    "        bboxes.append(box)\n",
    "    \n",
    "    if img_name in train_names:\n",
    "        img_name = img_name[:-4]\n",
    "        file_name = f'tmp/nfl_extra/labels/train/{img_name}.txt'\n",
    "    elif img_name in valid_names:\n",
    "        img_name = img_name[:-4]\n",
    "        file_name = f'tmp/nfl_extra/labels/valid/{img_name}.txt'\n",
    "        \n",
    "    with open(file_name, 'w') as f:\n",
    "        for i, bbox in enumerate(bboxes):\n",
    "            label = label_to_id[df.loc[i].label]\n",
    "            bbox = [label]+bbox\n",
    "            bbox = [str(i) for i in bbox]\n",
    "            bbox = ' '.join(bbox)\n",
    "            f.write(bbox)\n",
    "            f.write('\\n')"
   ]
  },
  {
   "cell_type": "code",
   "execution_count": 21,
   "id": "3143f82f",
   "metadata": {
    "execution": {
     "iopub.execute_input": "2021-12-04T15:17:29.885615Z",
     "iopub.status.busy": "2021-12-04T15:17:29.884716Z",
     "iopub.status.idle": "2021-12-04T15:17:29.890833Z",
     "shell.execute_reply": "2021-12-04T15:17:29.891343Z"
    },
    "papermill": {
     "duration": 0.650202,
     "end_time": "2021-12-04T15:17:29.891544",
     "exception": false,
     "start_time": "2021-12-04T15:17:29.241342",
     "status": "completed"
    },
    "tags": []
   },
   "outputs": [
    {
     "name": "stdout",
     "output_type": "stream",
     "text": [
      "/kaggle/tmp/yolov5\n"
     ]
    }
   ],
   "source": [
    "%cd tmp/yolov5/"
   ]
  },
  {
   "cell_type": "code",
   "execution_count": 22,
   "id": "052b7926",
   "metadata": {
    "execution": {
     "iopub.execute_input": "2021-12-04T15:17:31.178745Z",
     "iopub.status.busy": "2021-12-04T15:17:31.177929Z",
     "iopub.status.idle": "2021-12-04T15:17:31.182701Z",
     "shell.execute_reply": "2021-12-04T15:17:31.182184Z"
    },
    "papermill": {
     "duration": 0.646002,
     "end_time": "2021-12-04T15:17:31.182858",
     "exception": false,
     "start_time": "2021-12-04T15:17:30.536856",
     "status": "completed"
    },
    "tags": []
   },
   "outputs": [],
   "source": [
    "#!add-apt-repository ppa:ubuntu-toolchain-r/test -y\n",
    "#!apt-get update\n",
    "#!apt-get upgrade libstdc++6 -y"
   ]
  },
  {
   "cell_type": "code",
   "execution_count": 23,
   "id": "f41a6e76",
   "metadata": {
    "execution": {
     "iopub.execute_input": "2021-12-04T15:17:32.530167Z",
     "iopub.status.busy": "2021-12-04T15:17:32.528282Z",
     "iopub.status.idle": "2021-12-04T17:22:20.682709Z",
     "shell.execute_reply": "2021-12-04T17:22:20.681796Z"
    },
    "papermill": {
     "duration": 7488.858811,
     "end_time": "2021-12-04T17:22:20.682876",
     "exception": false,
     "start_time": "2021-12-04T15:17:31.824065",
     "status": "completed"
    },
    "tags": []
   },
   "outputs": [
    {
     "name": "stdout",
     "output_type": "stream",
     "text": [
      "Downloading https://ultralytics.com/assets/Arial.ttf to /root/.config/Ultralytics/Arial.ttf...\r\n",
      "\u001b[34m\u001b[1mwandb\u001b[0m: Currently logged in as: \u001b[33marchanabc\u001b[0m (use `wandb login --relogin` to force relogin)\r\n",
      "\u001b[34m\u001b[1mgithub: \u001b[0mup to date with https://github.com/ultralytics/yolov5 ✅\r\n",
      "\u001b[34m\u001b[1mwandb\u001b[0m: Tracking run with wandb version 0.12.7\r\n",
      "\u001b[34m\u001b[1mwandb\u001b[0m: Syncing run \u001b[33mlegendary-night-2\u001b[0m\r\n",
      "\u001b[34m\u001b[1mwandb\u001b[0m: ⭐️ View project at \u001b[34m\u001b[4mhttps://wandb.ai/archanabc/YOLOv5\u001b[0m\r\n",
      "\u001b[34m\u001b[1mwandb\u001b[0m: 🚀 View run at \u001b[34m\u001b[4mhttps://wandb.ai/archanabc/YOLOv5/runs/3hfrmrzo\u001b[0m\r\n",
      "\u001b[34m\u001b[1mwandb\u001b[0m: Run data is saved locally in /kaggle/tmp/yolov5/wandb/run-20211204_151739-3hfrmrzo\r\n",
      "\u001b[34m\u001b[1mwandb\u001b[0m: Run `wandb offline` to turn off syncing.\r\n",
      "\r\n",
      "\r\n",
      "\r\n",
      "\r\n",
      "\r\n",
      "\r\n",
      "\r\n",
      "\r\n",
      "\r\n",
      "\r\n",
      "\r\n",
      "\r\n",
      "\r\n",
      "\r\n",
      "\r\n",
      "\r\n",
      "\r\n",
      "\r\n",
      "\r\n",
      "\r\n",
      "\r\n",
      "\r\n",
      "\r\n",
      "\r\n",
      "\r\n",
      "\r\n",
      "\r\n",
      "\r\n",
      "\r\n",
      "\r\n",
      "\r\n",
      "\u001b[34m\u001b[1mwandb\u001b[0m: Waiting for W&B process to finish, PID 381... (success).\r\n",
      "\u001b[34m\u001b[1mwandb\u001b[0m:                                                                                \r\n",
      "\u001b[34m\u001b[1mwandb\u001b[0m: Run history:\r\n",
      "\u001b[34m\u001b[1mwandb\u001b[0m:        metrics/mAP_0.5 ▁▄▅▅▆▆▇▇██\r\n",
      "\u001b[34m\u001b[1mwandb\u001b[0m:   metrics/mAP_0.5:0.95 ▁▃▄▅▆▆▇▇██\r\n",
      "\u001b[34m\u001b[1mwandb\u001b[0m:      metrics/precision █▁▄▄▄▅▃▃▃▃\r\n",
      "\u001b[34m\u001b[1mwandb\u001b[0m:         metrics/recall ▁▄▅▅▆▆▇███\r\n",
      "\u001b[34m\u001b[1mwandb\u001b[0m:         train/box_loss █▄▄▃▂▂▂▁▁▁\r\n",
      "\u001b[34m\u001b[1mwandb\u001b[0m:         train/cls_loss █▅▄▃▃▂▂▂▁▂\r\n",
      "\u001b[34m\u001b[1mwandb\u001b[0m:         train/obj_loss █▆▆▅▄▃▂▂▁▁\r\n",
      "\u001b[34m\u001b[1mwandb\u001b[0m:           val/box_loss █▆▅▄▃▂▂▂▁▁\r\n",
      "\u001b[34m\u001b[1mwandb\u001b[0m:           val/cls_loss █▆▄▄▃▂▂▁▁▁\r\n",
      "\u001b[34m\u001b[1mwandb\u001b[0m:           val/obj_loss █▇▅▅▃▃▂▂▂▁\r\n",
      "\u001b[34m\u001b[1mwandb\u001b[0m:                  x/lr0 ▂▅█▇▇▆▅▃▂▁\r\n",
      "\u001b[34m\u001b[1mwandb\u001b[0m:                  x/lr1 ▂▅█▇▇▆▅▃▂▁\r\n",
      "\u001b[34m\u001b[1mwandb\u001b[0m:                  x/lr2 █▅▂▂▂▂▁▁▁▁\r\n",
      "\u001b[34m\u001b[1mwandb\u001b[0m: \r\n",
      "\u001b[34m\u001b[1mwandb\u001b[0m: Run summary:\r\n",
      "\u001b[34m\u001b[1mwandb\u001b[0m:        metrics/mAP_0.5 0.31794\r\n",
      "\u001b[34m\u001b[1mwandb\u001b[0m:   metrics/mAP_0.5:0.95 0.14959\r\n",
      "\u001b[34m\u001b[1mwandb\u001b[0m:      metrics/precision 0.50823\r\n",
      "\u001b[34m\u001b[1mwandb\u001b[0m:         metrics/recall 0.38949\r\n",
      "\u001b[34m\u001b[1mwandb\u001b[0m:         train/box_loss 0.03411\r\n",
      "\u001b[34m\u001b[1mwandb\u001b[0m:         train/cls_loss 0.01152\r\n",
      "\u001b[34m\u001b[1mwandb\u001b[0m:         train/obj_loss 0.04139\r\n",
      "\u001b[34m\u001b[1mwandb\u001b[0m:           val/box_loss 0.0296\r\n",
      "\u001b[34m\u001b[1mwandb\u001b[0m:           val/cls_loss 0.00969\r\n",
      "\u001b[34m\u001b[1mwandb\u001b[0m:           val/obj_loss 0.0461\r\n",
      "\u001b[34m\u001b[1mwandb\u001b[0m:                  x/lr0 0.00186\r\n",
      "\u001b[34m\u001b[1mwandb\u001b[0m:                  x/lr1 0.00186\r\n",
      "\u001b[34m\u001b[1mwandb\u001b[0m:                  x/lr2 0.00186\r\n",
      "\u001b[34m\u001b[1mwandb\u001b[0m: \r\n",
      "\u001b[34m\u001b[1mwandb\u001b[0m: Synced 5 W&B file(s), 335 media file(s), 1 artifact file(s) and 0 other file(s)\r\n",
      "\u001b[34m\u001b[1mwandb\u001b[0m: Synced \u001b[33mlegendary-night-2\u001b[0m: \u001b[34mhttps://wandb.ai/archanabc/YOLOv5/runs/3hfrmrzo\u001b[0m\r\n",
      "\u001b[34m\u001b[1mwandb\u001b[0m: Find logs at: ./wandb/run-20211204_151739-3hfrmrzo/logs/debug.log\r\n",
      "\u001b[34m\u001b[1mwandb\u001b[0m: \r\n",
      "Exception ignored in: <function _MultiProcessingDataLoaderIter.__del__ at 0x7f2b872e8830>\r\n",
      "Traceback (most recent call last):\r\n",
      "  File \"/opt/conda/lib/python3.7/site-packages/torch/utils/data/dataloader.py\", line 1328, in __del__\r\n",
      "  File \"/opt/conda/lib/python3.7/site-packages/torch/utils/data/dataloader.py\", line 1262, in _shutdown_workers\r\n",
      "AttributeError: 'NoneType' object has no attribute 'python_exit_status'\r\n",
      "Exception ignored in: <function _MultiProcessingDataLoaderIter.__del__ at 0x7f2b872e8830>\r\n",
      "Traceback (most recent call last):\r\n",
      "  File \"/opt/conda/lib/python3.7/site-packages/torch/utils/data/dataloader.py\", line 1328, in __del__\r\n",
      "  File \"/opt/conda/lib/python3.7/site-packages/torch/utils/data/dataloader.py\", line 1262, in _shutdown_workers\r\n",
      "AttributeError: 'NoneType' object has no attribute 'python_exit_status'\r\n"
     ]
    }
   ],
   "source": [
    "!python train.py --img 720 \\\n",
    "                 --batch 16 \\\n",
    "                 --epochs 10 \\\n",
    "                 --data data.yaml \\\n",
    "                 --weights yolov5s.pt \\\n",
    "                 #--save_period 1 \\\n",
    "                 --project nfl2021\n",
    "#test-project\\--entity aml8850"
   ]
  }
 ],
 "metadata": {
  "kernelspec": {
   "display_name": "Python 3",
   "language": "python",
   "name": "python3"
  },
  "language_info": {
   "codemirror_mode": {
    "name": "ipython",
    "version": 3
   },
   "file_extension": ".py",
   "mimetype": "text/x-python",
   "name": "python",
   "nbconvert_exporter": "python",
   "pygments_lexer": "ipython3",
   "version": "3.7.12"
  },
  "papermill": {
   "default_parameters": {},
   "duration": 7820.206781,
   "end_time": "2021-12-04T17:22:25.491735",
   "environment_variables": {},
   "exception": null,
   "input_path": "__notebook__.ipynb",
   "output_path": "__notebook__.ipynb",
   "parameters": {},
   "start_time": "2021-12-04T15:12:05.284954",
   "version": "2.3.3"
  },
  "widgets": {
   "application/vnd.jupyter.widget-state+json": {
    "state": {
     "16398c0ff5644ef1886b79b851004e29": {
      "model_module": "@jupyter-widgets/controls",
      "model_module_version": "1.5.0",
      "model_name": "LabelModel",
      "state": {
       "_dom_classes": [],
       "_model_module": "@jupyter-widgets/controls",
       "_model_module_version": "1.5.0",
       "_model_name": "LabelModel",
       "_view_count": null,
       "_view_module": "@jupyter-widgets/controls",
       "_view_module_version": "1.5.0",
       "_view_name": "LabelView",
       "description": "",
       "description_tooltip": null,
       "layout": "IPY_MODEL_8768d7b460a94c4d9e1aafe3b5eba3c3",
       "placeholder": "​",
       "style": "IPY_MODEL_e1fa410e4d9e40b2902721b47c092c35",
       "value": ""
      }
     },
     "4086102a338745a0a98ccecc3f56ecc7": {
      "model_module": "@jupyter-widgets/base",
      "model_module_version": "1.2.0",
      "model_name": "LayoutModel",
      "state": {
       "_model_module": "@jupyter-widgets/base",
       "_model_module_version": "1.2.0",
       "_model_name": "LayoutModel",
       "_view_count": null,
       "_view_module": "@jupyter-widgets/base",
       "_view_module_version": "1.2.0",
       "_view_name": "LayoutView",
       "align_content": null,
       "align_items": null,
       "align_self": null,
       "border": null,
       "bottom": null,
       "display": null,
       "flex": null,
       "flex_flow": null,
       "grid_area": null,
       "grid_auto_columns": null,
       "grid_auto_flow": null,
       "grid_auto_rows": null,
       "grid_column": null,
       "grid_gap": null,
       "grid_row": null,
       "grid_template_areas": null,
       "grid_template_columns": null,
       "grid_template_rows": null,
       "height": null,
       "justify_content": null,
       "justify_items": null,
       "left": null,
       "margin": null,
       "max_height": null,
       "max_width": null,
       "min_height": null,
       "min_width": null,
       "object_fit": null,
       "object_position": null,
       "order": null,
       "overflow": null,
       "overflow_x": null,
       "overflow_y": null,
       "padding": null,
       "right": null,
       "top": null,
       "visibility": null,
       "width": null
      }
     },
     "498dc6fc87744480a03df6a3b290f439": {
      "model_module": "@jupyter-widgets/controls",
      "model_module_version": "1.5.0",
      "model_name": "ProgressStyleModel",
      "state": {
       "_model_module": "@jupyter-widgets/controls",
       "_model_module_version": "1.5.0",
       "_model_name": "ProgressStyleModel",
       "_view_count": null,
       "_view_module": "@jupyter-widgets/base",
       "_view_module_version": "1.2.0",
       "_view_name": "StyleView",
       "bar_color": null,
       "description_width": ""
      }
     },
     "751f02816fa549768f994d564f1c1936": {
      "model_module": "@jupyter-widgets/base",
      "model_module_version": "1.2.0",
      "model_name": "LayoutModel",
      "state": {
       "_model_module": "@jupyter-widgets/base",
       "_model_module_version": "1.2.0",
       "_model_name": "LayoutModel",
       "_view_count": null,
       "_view_module": "@jupyter-widgets/base",
       "_view_module_version": "1.2.0",
       "_view_name": "LayoutView",
       "align_content": null,
       "align_items": null,
       "align_self": null,
       "border": null,
       "bottom": null,
       "display": null,
       "flex": null,
       "flex_flow": null,
       "grid_area": null,
       "grid_auto_columns": null,
       "grid_auto_flow": null,
       "grid_auto_rows": null,
       "grid_column": null,
       "grid_gap": null,
       "grid_row": null,
       "grid_template_areas": null,
       "grid_template_columns": null,
       "grid_template_rows": null,
       "height": null,
       "justify_content": null,
       "justify_items": null,
       "left": null,
       "margin": null,
       "max_height": null,
       "max_width": null,
       "min_height": null,
       "min_width": null,
       "object_fit": null,
       "object_position": null,
       "order": null,
       "overflow": null,
       "overflow_x": null,
       "overflow_y": null,
       "padding": null,
       "right": null,
       "top": null,
       "visibility": null,
       "width": null
      }
     },
     "8768d7b460a94c4d9e1aafe3b5eba3c3": {
      "model_module": "@jupyter-widgets/base",
      "model_module_version": "1.2.0",
      "model_name": "LayoutModel",
      "state": {
       "_model_module": "@jupyter-widgets/base",
       "_model_module_version": "1.2.0",
       "_model_name": "LayoutModel",
       "_view_count": null,
       "_view_module": "@jupyter-widgets/base",
       "_view_module_version": "1.2.0",
       "_view_name": "LayoutView",
       "align_content": null,
       "align_items": null,
       "align_self": null,
       "border": null,
       "bottom": null,
       "display": null,
       "flex": null,
       "flex_flow": null,
       "grid_area": null,
       "grid_auto_columns": null,
       "grid_auto_flow": null,
       "grid_auto_rows": null,
       "grid_column": null,
       "grid_gap": null,
       "grid_row": null,
       "grid_template_areas": null,
       "grid_template_columns": null,
       "grid_template_rows": null,
       "height": null,
       "justify_content": null,
       "justify_items": null,
       "left": null,
       "margin": null,
       "max_height": null,
       "max_width": null,
       "min_height": null,
       "min_width": null,
       "object_fit": null,
       "object_position": null,
       "order": null,
       "overflow": null,
       "overflow_x": null,
       "overflow_y": null,
       "padding": null,
       "right": null,
       "top": null,
       "visibility": null,
       "width": null
      }
     },
     "8de5de895a424511839e308297593f56": {
      "model_module": "@jupyter-widgets/controls",
      "model_module_version": "1.5.0",
      "model_name": "VBoxModel",
      "state": {
       "_dom_classes": [],
       "_model_module": "@jupyter-widgets/controls",
       "_model_module_version": "1.5.0",
       "_model_name": "VBoxModel",
       "_view_count": null,
       "_view_module": "@jupyter-widgets/controls",
       "_view_module_version": "1.5.0",
       "_view_name": "VBoxView",
       "box_style": "",
       "children": [
        "IPY_MODEL_16398c0ff5644ef1886b79b851004e29",
        "IPY_MODEL_e60fac64f7fd48ac8ca4b732537eccb0"
       ],
       "layout": "IPY_MODEL_4086102a338745a0a98ccecc3f56ecc7"
      }
     },
     "e1fa410e4d9e40b2902721b47c092c35": {
      "model_module": "@jupyter-widgets/controls",
      "model_module_version": "1.5.0",
      "model_name": "DescriptionStyleModel",
      "state": {
       "_model_module": "@jupyter-widgets/controls",
       "_model_module_version": "1.5.0",
       "_model_name": "DescriptionStyleModel",
       "_view_count": null,
       "_view_module": "@jupyter-widgets/base",
       "_view_module_version": "1.2.0",
       "_view_name": "StyleView",
       "description_width": ""
      }
     },
     "e60fac64f7fd48ac8ca4b732537eccb0": {
      "model_module": "@jupyter-widgets/controls",
      "model_module_version": "1.5.0",
      "model_name": "FloatProgressModel",
      "state": {
       "_dom_classes": [],
       "_model_module": "@jupyter-widgets/controls",
       "_model_module_version": "1.5.0",
       "_model_name": "FloatProgressModel",
       "_view_count": null,
       "_view_module": "@jupyter-widgets/controls",
       "_view_module_version": "1.5.0",
       "_view_name": "ProgressView",
       "bar_style": "",
       "description": "",
       "description_tooltip": null,
       "layout": "IPY_MODEL_751f02816fa549768f994d564f1c1936",
       "max": 1.0,
       "min": 0.0,
       "orientation": "horizontal",
       "style": "IPY_MODEL_498dc6fc87744480a03df6a3b290f439",
       "value": 0.0
      }
     }
    },
    "version_major": 2,
    "version_minor": 0
   }
  }
 },
 "nbformat": 4,
 "nbformat_minor": 5
}
